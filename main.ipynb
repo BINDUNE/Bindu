{
  "metadata": {
    "kernelspec": {
      "name": "python",
      "display_name": "Python (Pyodide)",
      "language": "python"
    },
    "language_info": {
      "codemirror_mode": {
        "name": "python",
        "version": 3
      },
      "file_extension": ".py",
      "mimetype": "text/x-python",
      "name": "python",
      "nbconvert_exporter": "python",
      "pygments_lexer": "ipython3",
      "version": "3.8"
    }
  },
  "nbformat_minor": 4,
  "nbformat": 4,
  "cells": [
    {
      "cell_type": "code",
      "source": "# main_project.ipynb\nfrom car_rental_module import CarRental\nfrom customer import Customer\nfrom datetime import datetime\nfrom random import randint\n\ndef generate_code():\n    #return str(hash(datetime.now()))\n    return str(randint(1000,9999))\n\ndef main():\n    total_cars = 10\n    car_rental = CarRental(total_cars)\n    customer = Customer(\"John Doe\")\n\n    while True:\n        print(\"\\n1. Display Available Cars\\n2. Rent Cars\\n3. Return Cars\\n4. Exit\")\n        choice = input(\"Enter your choice: \")\n\n        if choice == \"1\":\n            print(car_rental.display_available_cars())\n        elif choice == \"2\":\n            num_cars = int(input(\"Enter the number of cars you want to rent: \"))\n            rental_mode = input(\"Enter rental mode (hourly/daily/weekly): \")\n            code = generate_code()\n            print(customer.request_cars(car_rental, num_cars, rental_mode,code))\n        elif choice == \"3\":\n            code = input(\"Enter code provided while renting: \")\n            rental_mode = input(\"Enter rental mode (hourly/daily/weekly): \")\n            num_cars = int(input(\"Enter the number of cars you are returning: \"))\n            print(customer.return_cars(car_rental, code, rental_mode, num_cars))\n        elif choice == \"4\":\n            break\n        else:\n            print(\"Invalid choice. Please try again.\")\n\nif __name__ == \"__main__\":\n    main()",
      "metadata": {
        "trusted": true
      },
      "outputs": [],
      "execution_count": null
    },
    {
      "cell_type": "code",
      "source": "",
      "metadata": {
        "trusted": true
      },
      "outputs": [],
      "execution_count": null
    }
  ]
}